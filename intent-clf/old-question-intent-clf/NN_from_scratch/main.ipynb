{
 "cells": [
  {
   "cell_type": "markdown",
   "metadata": {},
   "source": [
    "Few shot learning algorithm\n",
    "\n",
    "Following this guide: https://medium.com/analytics-vidhya/creating-your-own-intent-classifier-b86e000a4926"
   ]
  },
  {
   "cell_type": "code",
   "execution_count": 50,
   "metadata": {
    "tags": []
   },
   "outputs": [],
   "source": [
    "import numpy as np\n",
    "import json"
   ]
  },
  {
   "cell_type": "code",
   "execution_count": 51,
   "metadata": {},
   "outputs": [],
   "source": [
    "# Load in the data file\n",
    "with open('./question-data.json') as data_file:\n",
    "    data = json.loads(data_file.read())\n",
    "\n",
    "# Prepare the data\n",
    "train_data = []\n",
    "for index in data:\n",
    "    train_data += [[data[index][x], index] for x in range(len(data[index]))]\n",
    "train_data = np.array(train_data)\n",
    "train_data = train_data.T\n",
    "\n",
    "text = train_data[0] # All text \n",
    "labels = train_data[1] # All labels for text"
   ]
  },
  {
   "cell_type": "code",
   "execution_count": 52,
   "metadata": {},
   "outputs": [],
   "source": [
    "# Split data into training and testing sections\n",
    "from sklearn.model_selection import train_test_split\n",
    "\n",
    "train_txt, test_txt, train_label, test_labels = train_test_split(text, labels, test_size = 0.3)"
   ]
  },
  {
   "cell_type": "markdown",
   "metadata": {},
   "source": [
    "Data pre-processing"
   ]
  },
  {
   "cell_type": "code",
   "execution_count": 53,
   "metadata": {},
   "outputs": [],
   "source": [
    "# Tokenizing the text\n",
    "import tensorflow as tf\n",
    "max_num_words = 40000\n",
    "classes = np.unique(labels)\n",
    "\n",
    "tokenizer = tf.keras.preprocessing.text.Tokenizer(num_words=max_num_words)\n",
    "tokenizer.fit_on_texts(train_txt)\n",
    "word_index = tokenizer.word_index"
   ]
  },
  {
   "cell_type": "code",
   "execution_count": 54,
   "metadata": {},
   "outputs": [],
   "source": [
    "# Padding the tokens so that they are all the same length\n",
    "ls=[]\n",
    "for c in train_txt:\n",
    "    ls.append(len(c.split()))\n",
    "maxLen=int(np.percentile(ls, 98))\n",
    "train_sequences = tokenizer.texts_to_sequences(train_txt)\n",
    "train_sequences = tf.keras.preprocessing.sequence.pad_sequences(train_sequences, maxlen=maxLen, padding='post')\n",
    "test_sequences = tokenizer.texts_to_sequences(test_txt)\n",
    "test_sequences = tf.keras.preprocessing.sequence.pad_sequences(test_sequences, maxlen=maxLen, padding='post')"
   ]
  },
  {
   "cell_type": "code",
   "execution_count": 55,
   "metadata": {},
   "outputs": [],
   "source": [
    "# One hot encoding for the labels\n",
    "from sklearn.preprocessing import OneHotEncoder,LabelEncoder\n",
    "\n",
    "label_encoder = LabelEncoder()\n",
    "integer_encoded = label_encoder.fit_transform(classes)\n",
    "\n",
    "onehot_encoder = OneHotEncoder(sparse=False)\n",
    "integer_encoded = integer_encoded.reshape(len(integer_encoded), 1)\n",
    "onehot_encoder.fit(integer_encoded)\n",
    "train_label_encoded = label_encoder.transform(train_label)\n",
    "train_label_encoded = train_label_encoded.reshape(len(train_label_encoded), 1)\n",
    "train_label = onehot_encoder.transform(train_label_encoded)\n",
    "test_labels_encoded = label_encoder.transform(test_labels)\n",
    "test_labels_encoded = test_labels_encoded.reshape(len(test_labels_encoded), 1)\n",
    "test_labels = onehot_encoder.transform(test_labels_encoded)"
   ]
  },
  {
   "cell_type": "code",
   "execution_count": 56,
   "metadata": {},
   "outputs": [],
   "source": [
    "# Get word embeddings\n",
    "embeddings_index={}\n",
    "with open('glove.6B.100d.txt', encoding='utf8') as f:\n",
    "    for line in f:\n",
    "        values = line.split()\n",
    "        word = values[0]\n",
    "        coefs = np.asarray(values[1:], dtype='float32')\n",
    "        embeddings_index[word] = coefs"
   ]
  },
  {
   "cell_type": "code",
   "execution_count": 57,
   "metadata": {},
   "outputs": [
    {
     "name": "stderr",
     "output_type": "stream",
     "text": [
      "/Users/danielstefanescu/miniforge3/envs/mlp/lib/python3.8/site-packages/IPython/core/interactiveshell.py:3318: FutureWarning: arrays to stack must be passed as a \"sequence\" type such as list or tuple. Support for non-sequence iterables such as generators is deprecated as of NumPy 1.16 and will raise an error in the future.\n",
      "  if await self.run_code(code, result, async_=asy):\n"
     ]
    }
   ],
   "source": [
    "# Use word embeddings to create a matrix\n",
    "all_embs = np.stack(embeddings_index.values())\n",
    "emb_mean,emb_std = all_embs.mean(), all_embs.std()\n",
    "num_words = min(max_num_words, len(word_index))+1\n",
    "embedding_dim=len(embeddings_index['the'])\n",
    "embedding_matrix = np.random.normal(emb_mean, emb_std, (num_words, embedding_dim))\n",
    "for word, i in word_index.items():\n",
    "    if i >= max_num_words:\n",
    "        break\n",
    "    embedding_vector = embeddings_index.get(word)\n",
    "    if embedding_vector is not None:\n",
    "        embedding_matrix[i] = embedding_vector"
   ]
  },
  {
   "cell_type": "code",
   "execution_count": 58,
   "metadata": {},
   "outputs": [
    {
     "name": "stdout",
     "output_type": "stream",
     "text": [
      "WARNING:tensorflow:Layer lstm_8 will not use cuDNN kernels since it doesn't meet the criteria. It will use a generic GPU kernel as fallback when running on GPU.\n",
      "WARNING:tensorflow:Layer lstm_8 will not use cuDNN kernels since it doesn't meet the criteria. It will use a generic GPU kernel as fallback when running on GPU.\n",
      "WARNING:tensorflow:Layer lstm_8 will not use cuDNN kernels since it doesn't meet the criteria. It will use a generic GPU kernel as fallback when running on GPU.\n",
      "WARNING:tensorflow:Layer lstm_9 will not use cuDNN kernels since it doesn't meet the criteria. It will use a generic GPU kernel as fallback when running on GPU.\n"
     ]
    }
   ],
   "source": [
    "# Model preperation\n",
    "\n",
    "from tensorflow.keras.models import Sequential\n",
    "from tensorflow.keras.layers import Dense, Input, Dropout, LSTM, Activation, Bidirectional,Embedding\n",
    "model = Sequential()\n",
    "\n",
    "model.add(Embedding(num_words, 100, trainable=False,input_length=train_sequences.shape[1], weights=[embedding_matrix]))\n",
    "model.add(Bidirectional(LSTM(256, return_sequences=True, recurrent_dropout=0.1, dropout=0.1), 'concat'))\n",
    "model.add(Dropout(0.3))\n",
    "model.add(LSTM(256, return_sequences=False, recurrent_dropout=0.1, dropout=0.1))\n",
    "model.add(Dropout(0.3))\n",
    "model.add(Dense(50, activation='relu'))\n",
    "model.add(Dropout(0.3))\n",
    "model.add(Dense(classes.shape[0], activation='softmax'))\n",
    "model.compile(loss='categorical_crossentropy', optimizer='adam', metrics=['acc'])"
   ]
  },
  {
   "cell_type": "code",
   "execution_count": 59,
   "metadata": {},
   "outputs": [
    {
     "name": "stdout",
     "output_type": "stream",
     "text": [
      "Epoch 1/30\n"
     ]
    },
    {
     "name": "stderr",
     "output_type": "stream",
     "text": [
      "2022-10-13 23:16:01.072704: I tensorflow/core/grappler/optimizers/custom_graph_optimizer_registry.cc:114] Plugin optimizer for device_type GPU is enabled.\n"
     ]
    },
    {
     "name": "stdout",
     "output_type": "stream",
     "text": [
      "1/1 [==============================] - ETA: 0s - loss: 1.1491 - acc: 0.1538"
     ]
    },
    {
     "name": "stderr",
     "output_type": "stream",
     "text": [
      "2022-10-13 23:16:03.611085: I tensorflow/core/grappler/optimizers/custom_graph_optimizer_registry.cc:114] Plugin optimizer for device_type GPU is enabled.\n"
     ]
    },
    {
     "name": "stdout",
     "output_type": "stream",
     "text": [
      "1/1 [==============================] - 5s 5s/step - loss: 1.1491 - acc: 0.1538 - val_loss: 1.1507 - val_acc: 0.1667\n",
      "Epoch 2/30\n",
      "1/1 [==============================] - 1s 1s/step - loss: 1.0339 - acc: 0.5385 - val_loss: 1.1826 - val_acc: 0.1667\n",
      "Epoch 3/30\n",
      "1/1 [==============================] - 1s 982ms/step - loss: 0.9747 - acc: 0.4615 - val_loss: 1.3244 - val_acc: 0.1667\n",
      "Epoch 4/30\n",
      "1/1 [==============================] - 1s 977ms/step - loss: 0.8893 - acc: 0.6154 - val_loss: 1.4396 - val_acc: 0.1667\n",
      "Epoch 5/30\n",
      "1/1 [==============================] - 1s 963ms/step - loss: 0.8912 - acc: 0.7692 - val_loss: 1.4822 - val_acc: 0.1667\n",
      "Epoch 6/30\n",
      "1/1 [==============================] - 1s 959ms/step - loss: 0.8693 - acc: 0.5385 - val_loss: 1.5281 - val_acc: 0.0000e+00\n",
      "Epoch 7/30\n",
      "1/1 [==============================] - 1s 944ms/step - loss: 0.6472 - acc: 0.8462 - val_loss: 1.5930 - val_acc: 0.0000e+00\n",
      "Epoch 8/30\n",
      "1/1 [==============================] - 1s 966ms/step - loss: 0.5732 - acc: 0.6923 - val_loss: 1.7436 - val_acc: 0.1667\n",
      "Epoch 9/30\n",
      "1/1 [==============================] - 1s 944ms/step - loss: 0.5510 - acc: 0.7692 - val_loss: 1.7727 - val_acc: 0.0000e+00\n",
      "Epoch 10/30\n",
      "1/1 [==============================] - 1s 939ms/step - loss: 0.4954 - acc: 0.6923 - val_loss: 1.7634 - val_acc: 0.1667\n",
      "Epoch 11/30\n",
      "1/1 [==============================] - 1s 936ms/step - loss: 0.6197 - acc: 0.6923 - val_loss: 1.7772 - val_acc: 0.5000\n",
      "Epoch 12/30\n",
      "1/1 [==============================] - 1s 941ms/step - loss: 0.4677 - acc: 0.7692 - val_loss: 1.7880 - val_acc: 0.5000\n",
      "Epoch 13/30\n",
      "1/1 [==============================] - 1s 944ms/step - loss: 0.3781 - acc: 0.8462 - val_loss: 1.8332 - val_acc: 0.5000\n",
      "Epoch 14/30\n",
      "1/1 [==============================] - 1s 930ms/step - loss: 0.4122 - acc: 0.7692 - val_loss: 1.8834 - val_acc: 0.5000\n",
      "Epoch 15/30\n",
      "1/1 [==============================] - 1s 940ms/step - loss: 0.3361 - acc: 0.8462 - val_loss: 1.9326 - val_acc: 0.5000\n",
      "Epoch 16/30\n",
      "1/1 [==============================] - 1s 943ms/step - loss: 0.3947 - acc: 0.9231 - val_loss: 2.0262 - val_acc: 0.1667\n",
      "Epoch 17/30\n",
      "1/1 [==============================] - 1s 937ms/step - loss: 0.4385 - acc: 0.6923 - val_loss: 2.1021 - val_acc: 0.1667\n",
      "Epoch 18/30\n",
      "1/1 [==============================] - 1s 936ms/step - loss: 0.3326 - acc: 0.7692 - val_loss: 2.1584 - val_acc: 0.3333\n",
      "Epoch 19/30\n",
      "1/1 [==============================] - 1s 968ms/step - loss: 0.4865 - acc: 0.8462 - val_loss: 2.2933 - val_acc: 0.1667\n",
      "Epoch 20/30\n",
      "1/1 [==============================] - 1s 937ms/step - loss: 0.2027 - acc: 0.8462 - val_loss: 2.5573 - val_acc: 0.0000e+00\n",
      "Epoch 21/30\n",
      "1/1 [==============================] - 1s 943ms/step - loss: 0.2412 - acc: 0.9231 - val_loss: 2.6099 - val_acc: 0.0000e+00\n",
      "Epoch 22/30\n",
      "1/1 [==============================] - 1s 939ms/step - loss: 0.1406 - acc: 1.0000 - val_loss: 2.5894 - val_acc: 0.1667\n",
      "Epoch 23/30\n",
      "1/1 [==============================] - 1s 949ms/step - loss: 0.0783 - acc: 1.0000 - val_loss: 2.6220 - val_acc: 0.1667\n",
      "Epoch 24/30\n",
      "1/1 [==============================] - 1s 934ms/step - loss: 0.0670 - acc: 1.0000 - val_loss: 2.7149 - val_acc: 0.1667\n",
      "Epoch 25/30\n",
      "1/1 [==============================] - 1s 945ms/step - loss: 0.0834 - acc: 1.0000 - val_loss: 2.8053 - val_acc: 0.5000\n",
      "Epoch 26/30\n",
      "1/1 [==============================] - 1s 937ms/step - loss: 0.0216 - acc: 1.0000 - val_loss: 2.9210 - val_acc: 0.5000\n",
      "Epoch 27/30\n",
      "1/1 [==============================] - 1s 941ms/step - loss: 0.1603 - acc: 0.9231 - val_loss: 3.2260 - val_acc: 0.1667\n",
      "Epoch 28/30\n",
      "1/1 [==============================] - 1s 930ms/step - loss: 0.0143 - acc: 1.0000 - val_loss: 4.3695 - val_acc: 0.0000e+00\n",
      "Epoch 29/30\n",
      "1/1 [==============================] - 1s 932ms/step - loss: 0.0048 - acc: 1.0000 - val_loss: 5.3800 - val_acc: 0.0000e+00\n",
      "Epoch 30/30\n",
      "1/1 [==============================] - 1s 935ms/step - loss: 0.0074 - acc: 1.0000 - val_loss: 5.8508 - val_acc: 0.1667\n"
     ]
    }
   ],
   "source": [
    "# Model training\n",
    "\n",
    "history = model.fit(train_sequences, train_label, epochs = 30,\n",
    "          batch_size = 64, shuffle=True,\n",
    "          validation_data=[test_sequences, test_labels])"
   ]
  },
  {
   "cell_type": "code",
   "execution_count": 60,
   "metadata": {},
   "outputs": [
    {
     "data": {
      "image/png": "[encoded data removed]",
      "text/plain": [
       "<Figure size 640x480 with 1 Axes>"
      ]
     },
     "metadata": {},
     "output_type": "display_data"
    }
   ],
   "source": [
    "# Plotting the results:\n",
    "\n",
    "import matplotlib.pyplot as plt\n",
    "%matplotlib inline\n",
    "plt.plot(history.history['acc'])\n",
    "plt.plot(history.history['val_acc'])\n",
    "plt.title('Model Accuracy')\n",
    "plt.ylabel('Accuracy')\n",
    "plt.xlabel('Epoch')\n",
    "plt.legend(['Train', 'Validation'], loc='upper left')\n",
    "plt.show()"
   ]
  }
 ],
 "metadata": {
  "kernelspec": {
   "display_name": "Python 3.10.6 64-bit ('miniforge3')",
   "language": "python",
   "name": "python3"
  },
  "language_info": {
   "codemirror_mode": {
    "name": "ipython",
    "version": 3
   },
   "file_extension": ".py",
   "mimetype": "text/x-python",
   "name": "python",
   "nbconvert_exporter": "python",
   "pygments_lexer": "ipython3",
   "version": "3.10.6"
  },
  "orig_nbformat": 4,
  "vscode": {
   "interpreter": {
    "hash": "c0131f037897c358a9a268dfd2e11505808df673ecd6e283ac185a0b749caaaf"
   }
  }
 },
 "nbformat": 4,
 "nbformat_minor": 2
}
